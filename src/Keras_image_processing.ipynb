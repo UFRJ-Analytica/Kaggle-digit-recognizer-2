{
 "cells": [
  {
   "cell_type": "code",
   "execution_count": 1,
   "source": [
    "import os\r\n",
    "\r\n",
    "import pandas              as pd\r\n",
    "import numpy               as np\r\n",
    "import matplotlib.pyplot   as plt\r\n",
    "\r\n",
    "from keras.layers          import Dense, Conv2D, Flatten, MaxPool2D\r\n",
    "from keras.models          import Sequential, load_model\r\n",
    "from keras.callbacks       import ModelCheckpoint\r\n",
    "from datetime              import datetime"
   ],
   "outputs": [],
   "metadata": {}
  },
  {
   "cell_type": "code",
   "execution_count": 2,
   "source": [
    "# Creates folders\r\n",
    "os.makedirs(\"../results/\",    exist_ok=True)\r\n",
    "os.makedirs(\"../models/\",     exist_ok=True)\r\n",
    "os.makedirs(\"../submission/\", exist_ok=True)\r\n",
    "os.makedirs(\"../scores/\",     exist_ok=True)\r\n",
    "os.makedirs(\"../weights/\",    exist_ok=True)"
   ],
   "outputs": [],
   "metadata": {}
  },
  {
   "cell_type": "code",
   "execution_count": 3,
   "source": [
    "# Importing train and test data\r\n",
    "train = pd.read_csv('../data/train.zip')\r\n",
    "test = pd.read_csv('../data/test.zip')"
   ],
   "outputs": [],
   "metadata": {}
  },
  {
   "cell_type": "code",
   "execution_count": 4,
   "source": [
    "# Formating data\r\n",
    "y_train = np.array(train.label).reshape(-1, 1)\r\n",
    "\r\n",
    "x_train = np.array(train.drop(columns = ['label'], axis = 1), dtype = np.float32).reshape(-1, 28, 28, 1)\r\n",
    "x_test = np.array(test, dtype = np.float32).reshape(-1, 28, 28, 1)"
   ],
   "outputs": [],
   "metadata": {}
  },
  {
   "cell_type": "code",
   "execution_count": 31,
   "source": [
    "def new_model():\r\n",
    "\r\n",
    "    date = datetime.now().strftime(\"%d-%m-%Y_%Hh%Mm%Ss\")\r\n",
    "\r\n",
    "    # Saves best weights\r\n",
    "    checkpoint = ModelCheckpoint(f'../weights/weights_cnn_{date}.hdf5', \r\n",
    "                                  monitor='val_loss',\r\n",
    "                                  save_best_only=True)\r\n",
    "\r\n",
    "    callbacks_list = [checkpoint]\r\n",
    "\r\n",
    "    # Adding layers\r\n",
    "    model = Sequential([\r\n",
    "                        Conv2D(filters = 32, \r\n",
    "                                kernel_size = (3,3), \r\n",
    "                                activation = 'relu', \r\n",
    "                                padding = 'same', \r\n",
    "                                input_shape = (28,28,1)),\r\n",
    "\r\n",
    "                        MaxPool2D(pool_size = (2,2), \r\n",
    "                                  strides = 2),\r\n",
    "\r\n",
    "                        Conv2D(filters = 64, \r\n",
    "                                kernel_size = (3,3), \r\n",
    "                                activation = 'relu', \r\n",
    "                                padding = 'same'),\r\n",
    "\r\n",
    "                        MaxPool2D(pool_size = (2,2), \r\n",
    "                                  strides = 2),\r\n",
    "\r\n",
    "                        Flatten(),\r\n",
    "\r\n",
    "                        Dense(10, activation = 'softmax')\r\n",
    "                    ])\r\n",
    "\r\n",
    "    # Compiling the model\r\n",
    "    model.compile(optimizer = 'adam', \r\n",
    "                  loss = 'sparse_categorical_crossentropy',\r\n",
    "                  metrics = ['accuracy'])\r\n",
    "\r\n",
    "    # Fit the model\r\n",
    "    training = model.fit(x = x_train, \r\n",
    "                         y = y_train, \r\n",
    "                         epochs = 10,  \r\n",
    "                         shuffle = True, \r\n",
    "                         verbose = 2,\r\n",
    "                         callbacks = [callbacks_list],\r\n",
    "                         validation_split = 0.3)\r\n",
    "\r\n",
    "    # Extracting the history from the training object\r\n",
    "    history = pd.DataFrame(training.history)\r\n",
    "\r\n",
    "    # file name (with max validation accuracy)\r\n",
    "    file_name = f'{history[history[\"val_loss\"] == history[\"val_loss\"].min()].val_accuracy}%_cnn_{date}'\r\n",
    "\r\n",
    "    # Creating submission file\r\n",
    "    submission = pd.DataFrame(np.argmax(model.predict(x_test), axis = -1), columns = ['Label'])\r\n",
    "\r\n",
    "    # Creating ImageID index\r\n",
    "    submission.rename_axis('ImageId', inplace=True)\r\n",
    "\r\n",
    "    #Saving model\r\n",
    "    model.save(f'../models/{file_name}.h5')\r\n",
    "\r\n",
    "    # Saving submission file\r\n",
    "    submission.to_csv(f'../submission/{file_name}.csv')\r\n",
    "\r\n",
    "    # Saving training history\r\n",
    "    history.to_csv(f'../scores/{file_name}.csv')\r\n",
    "\r\n",
    "    #########################################################\r\n",
    "    ###############     Plotting Graph      #################\r\n",
    "    #########################################################\r\n",
    "\r\n",
    "    # Plot the training loss \r\n",
    "    plt.plot(history['loss'])\r\n",
    "\r\n",
    "    # Plot the validation loss\r\n",
    "    plt.plot(history['val_loss'])\r\n",
    "\r\n",
    "    plt.ylabel('loss')\r\n",
    "    plt.xlabel('epoch')\r\n",
    "    plt.legend(['Loss', 'Validation Loss'], loc='upper left')\r\n",
    "\r\n",
    "    # Adding Grid\r\n",
    "    plt.grid(True)\r\n",
    "\r\n",
    "    # Show the figure\r\n",
    "    plt.show()"
   ],
   "outputs": [],
   "metadata": {}
  },
  {
   "cell_type": "code",
   "execution_count": 32,
   "source": [
    "new_model()"
   ],
   "outputs": [
    {
     "output_type": "stream",
     "name": "stdout",
     "text": [
      "Epoch 1/10\n",
      "919/919 - 22s - loss: 0.5879 - accuracy: 0.9276 - val_loss: 0.1166 - val_accuracy: 0.9660\n",
      "Epoch 2/10\n",
      "919/919 - 24s - loss: 0.0864 - accuracy: 0.9747 - val_loss: 0.0923 - val_accuracy: 0.9722\n",
      "Epoch 3/10\n",
      "919/919 - 22s - loss: 0.0594 - accuracy: 0.9817 - val_loss: 0.0732 - val_accuracy: 0.9812\n",
      "Epoch 4/10\n",
      "919/919 - 20s - loss: 0.0424 - accuracy: 0.9870 - val_loss: 0.0699 - val_accuracy: 0.9794\n",
      "Epoch 5/10\n",
      "919/919 - 23s - loss: 0.0395 - accuracy: 0.9879 - val_loss: 0.0786 - val_accuracy: 0.9795\n",
      "Epoch 6/10\n",
      "919/919 - 21s - loss: 0.0452 - accuracy: 0.9858 - val_loss: 0.0867 - val_accuracy: 0.9794\n",
      "Epoch 7/10\n",
      "919/919 - 21s - loss: 0.0297 - accuracy: 0.9915 - val_loss: 0.1227 - val_accuracy: 0.9749\n",
      "Epoch 8/10\n",
      "919/919 - 21s - loss: 0.0363 - accuracy: 0.9891 - val_loss: 0.0933 - val_accuracy: 0.9812\n",
      "Epoch 9/10\n",
      "919/919 - 21s - loss: 0.0297 - accuracy: 0.9917 - val_loss: 0.1023 - val_accuracy: 0.9805\n",
      "Epoch 10/10\n",
      "919/919 - 21s - loss: 0.0301 - accuracy: 0.9911 - val_loss: 0.1119 - val_accuracy: 0.9772\n"
     ]
    },
    {
     "output_type": "display_data",
     "data": {
      "image/png": "[encoded data removed]",
      "text/plain": [
       "<Figure size 432x288 with 1 Axes>"
      ]
     },
     "metadata": {
      "needs_background": "light"
     }
    }
   ],
   "metadata": {}
  }
 ],
 "metadata": {
  "orig_nbformat": 4,
  "language_info": {
   "name": "python",
   "version": "3.9.6",
   "mimetype": "text/x-python",
   "codemirror_mode": {
    "name": "ipython",
    "version": 3
   },
   "pygments_lexer": "ipython3",
   "nbconvert_exporter": "python",
   "file_extension": ".py"
  },
  "kernelspec": {
   "name": "python3",
   "display_name": "Python 3.9.6 64-bit"
  },
  "interpreter": {
   "hash": "b36092a86d5950b17c408d584e311ca1413a5f9d8627407d6aab5af74bae2eab"
  }
 },
 "nbformat": 4,
 "nbformat_minor": 2
}