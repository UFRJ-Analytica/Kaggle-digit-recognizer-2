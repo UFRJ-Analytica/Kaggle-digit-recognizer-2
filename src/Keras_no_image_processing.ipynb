{
 "cells": [
  {
   "cell_type": "code",
   "execution_count": 3,
   "source": [
    "import os\r\n",
    "\r\n",
    "import pandas              as pd\r\n",
    "import numpy               as np\r\n",
    "import matplotlib.pyplot   as plt\r\n",
    "\r\n",
    "from keras.layers          import Dense\r\n",
    "from keras.models          import Sequential, load_model\r\n",
    "from keras.callbacks       import EarlyStopping\r\n",
    "from keras.metrics         import categorical_crossentropy\r\n",
    "from sklearn.preprocessing import LabelBinarizer, MinMaxScaler"
   ],
   "outputs": [],
   "metadata": {}
  },
  {
   "cell_type": "code",
   "execution_count": null,
   "source": [
    "# Creates folders\r\n",
    "os.makedirs(\"../results/\", exist_ok=True)\r\n",
    "os.makedirs(\"../models/\", exist_ok=True)\r\n",
    "os.makedirs(\"../submission/\", exist_ok=True)"
   ],
   "outputs": [],
   "metadata": {}
  },
  {
   "cell_type": "code",
   "execution_count": 101,
   "source": [
    "# Importing train and test data\r\n",
    "train = pd.read_csv('../data/train.zip')\r\n",
    "test = pd.read_csv('../data/test.zip')"
   ],
   "outputs": [],
   "metadata": {}
  },
  {
   "cell_type": "code",
   "execution_count": 102,
   "source": [
    "# Separating the target data from the train data\r\n",
    "target = train.label\r\n",
    "train.drop(columns= ['label'], axis = 1, inplace = True)"
   ],
   "outputs": [],
   "metadata": {}
  },
  {
   "cell_type": "code",
   "execution_count": 103,
   "source": [
    "# Formatting the data\r\n",
    "normalizer = MinMaxScaler(feature_range = (0, 1))\r\n",
    "\r\n",
    "# Transform data in binary\r\n",
    "lb = LabelBinarizer()\r\n",
    "\r\n",
    "# Normalize input train and test data\r\n",
    "x_train = normalizer.fit_transform(train)\r\n",
    "x_test = normalizer.fit_transform(test)\r\n",
    "\r\n",
    "y_train = lb.fit_transform(target)"
   ],
   "outputs": [],
   "metadata": {}
  },
  {
   "cell_type": "code",
   "execution_count": 1,
   "source": [
    "def new_model(hidden_layers = 1, nodes = 10, patience = 5):\r\n",
    "\r\n",
    "    file_name = f'no_cnn_{hidden_layers}_layer_{nodes}_nodes'\r\n",
    "\r\n",
    "    # Instantiating model\r\n",
    "    model = Sequential()\r\n",
    "\r\n",
    "    # Creating early_stopping\r\n",
    "    early_stopping_monitor = EarlyStopping(patience = patience,\r\n",
    "                                           monitor='val_loss')\r\n",
    "\r\n",
    "    # Adding hidden layers\r\n",
    "    for _ in range (0, hidden_layers):\r\n",
    "        \r\n",
    "        model.add(Dense(nodes, activation = 'relu'))\r\n",
    "\r\n",
    "    # Adding final layer\r\n",
    "    model.add(Dense(10, activation = 'softmax'))\r\n",
    "\r\n",
    "    # Compiling the model\r\n",
    "    model.compile(optimizer = 'adam', \r\n",
    "                  loss = 'categorical_crossentropy',\r\n",
    "                  metrics = ['accuracy'])\r\n",
    "\r\n",
    "    # Fit the model\r\n",
    "    model.fit(x_train, \r\n",
    "              y_train, \r\n",
    "              epochs = 100,  \r\n",
    "              shuffle = True, \r\n",
    "              verbose = 2,\r\n",
    "              callbacks = [early_stopping_monitor],\r\n",
    "              validation_split = 0.3)\r\n",
    "\r\n",
    "    # Creating submission file\r\n",
    "    submission = pd.DataFrame(np.argmax(model.predict(x_test), axis = -1), columns = ['Label'])\r\n",
    "\r\n",
    "    # Creating ImageID index\r\n",
    "    submission['ImageID']  = x_test.index\r\n",
    "\r\n",
    "    submission.rename_axis('ImageId', inplace=True)\r\n",
    "\r\n",
    "    #Saving model\r\n",
    "    model.save(f'../models/{file_name}.h5')\r\n",
    "\r\n",
    "    # Saving submission file\r\n",
    "    submission.to_csv(f'../submission/{file_name}.csv')\r\n"
   ],
   "outputs": [],
   "metadata": {}
  },
  {
   "cell_type": "code",
   "execution_count": 2,
   "source": [
    "# Best result so far!\r\n",
    "new_model(hidden_layers = 3, nodes = 40)"
   ],
   "outputs": [
    {
     "output_type": "error",
     "ename": "NameError",
     "evalue": "name 'Sequential' is not defined",
     "traceback": [
      "\u001b[1;31m---------------------------------------------------------------------------\u001b[0m",
      "\u001b[1;31mNameError\u001b[0m                                 Traceback (most recent call last)",
      "\u001b[1;32m<ipython-input-2-e040cda05c14>\u001b[0m in \u001b[0;36m<module>\u001b[1;34m\u001b[0m\n\u001b[0;32m      1\u001b[0m \u001b[1;31m# Best result so far!\u001b[0m\u001b[1;33m\u001b[0m\u001b[1;33m\u001b[0m\u001b[1;33m\u001b[0m\u001b[0m\n\u001b[1;32m----> 2\u001b[1;33m \u001b[0mnew_model\u001b[0m\u001b[1;33m(\u001b[0m\u001b[0mhidden_layers\u001b[0m \u001b[1;33m=\u001b[0m \u001b[1;36m3\u001b[0m\u001b[1;33m,\u001b[0m \u001b[0mnodes\u001b[0m \u001b[1;33m=\u001b[0m \u001b[1;36m40\u001b[0m\u001b[1;33m)\u001b[0m\u001b[1;33m\u001b[0m\u001b[1;33m\u001b[0m\u001b[0m\n\u001b[0m",
      "\u001b[1;32m<ipython-input-1-64fd1c3c1761>\u001b[0m in \u001b[0;36mnew_model\u001b[1;34m(hidden_layers, nodes, patience)\u001b[0m\n\u001b[0;32m      4\u001b[0m \u001b[1;33m\u001b[0m\u001b[0m\n\u001b[0;32m      5\u001b[0m     \u001b[1;31m# Instantiating model\u001b[0m\u001b[1;33m\u001b[0m\u001b[1;33m\u001b[0m\u001b[1;33m\u001b[0m\u001b[0m\n\u001b[1;32m----> 6\u001b[1;33m     \u001b[0mmodel\u001b[0m \u001b[1;33m=\u001b[0m \u001b[0mSequential\u001b[0m\u001b[1;33m(\u001b[0m\u001b[1;33m)\u001b[0m\u001b[1;33m\u001b[0m\u001b[1;33m\u001b[0m\u001b[0m\n\u001b[0m\u001b[0;32m      7\u001b[0m \u001b[1;33m\u001b[0m\u001b[0m\n\u001b[0;32m      8\u001b[0m     \u001b[1;31m# Creating early_stopping\u001b[0m\u001b[1;33m\u001b[0m\u001b[1;33m\u001b[0m\u001b[1;33m\u001b[0m\u001b[0m\n",
      "\u001b[1;31mNameError\u001b[0m: name 'Sequential' is not defined"
     ]
    }
   ],
   "metadata": {}
  }
 ],
 "metadata": {
  "orig_nbformat": 4,
  "language_info": {
   "name": "python",
   "version": "3.9.6",
   "mimetype": "text/x-python",
   "codemirror_mode": {
    "name": "ipython",
    "version": 3
   },
   "pygments_lexer": "ipython3",
   "nbconvert_exporter": "python",
   "file_extension": ".py"
  },
  "kernelspec": {
   "name": "python3",
   "display_name": "Python 3.9.6 64-bit"
  },
  "interpreter": {
   "hash": "b36092a86d5950b17c408d584e311ca1413a5f9d8627407d6aab5af74bae2eab"
  }
 },
 "nbformat": 4,
 "nbformat_minor": 2
}