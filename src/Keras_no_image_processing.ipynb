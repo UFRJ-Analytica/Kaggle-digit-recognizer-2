{
 "cells": [
  {
   "cell_type": "code",
   "execution_count": 3,
   "source": [
    "import os\r\n",
    "\r\n",
    "import pandas              as pd\r\n",
    "import numpy               as np\r\n",
    "import matplotlib.pyplot   as plt\r\n",
    "\r\n",
    "from keras.layers          import Dense\r\n",
    "from keras.models          import Sequential, load_model\r\n",
    "from keras.callbacks       import EarlyStopping\r\n",
    "from keras.metrics         import categorical_crossentropy\r\n",
    "from sklearn.preprocessing import LabelBinarizer, MinMaxScaler"
   ],
   "outputs": [],
   "metadata": {}
  },
  {
   "cell_type": "code",
   "execution_count": 5,
   "source": [
    "# Creates folders\r\n",
    "os.makedirs(\"../results/\", exist_ok=True)\r\n",
    "os.makedirs(\"../models/\", exist_ok=True)\r\n",
    "os.makedirs(\"../submission/\", exist_ok=True)"
   ],
   "outputs": [],
   "metadata": {}
  },
  {
   "cell_type": "code",
   "execution_count": 6,
   "source": [
    "# Importing train and test data\r\n",
    "train = pd.read_csv('../data/train.zip')\r\n",
    "test = pd.read_csv('../data/test.zip')"
   ],
   "outputs": [],
   "metadata": {}
  },
  {
   "cell_type": "code",
   "execution_count": 7,
   "source": [
    "# Separating the target data from the train data\r\n",
    "target = train.label\r\n",
    "train.drop(columns= ['label'], axis = 1, inplace = True)"
   ],
   "outputs": [],
   "metadata": {}
  },
  {
   "cell_type": "code",
   "execution_count": 8,
   "source": [
    "# Formatting the data\r\n",
    "normalizer = MinMaxScaler(feature_range = (0, 1))\r\n",
    "\r\n",
    "# Transform data in binary\r\n",
    "lb = LabelBinarizer()\r\n",
    "\r\n",
    "# Normalize input train and test data\r\n",
    "x_train = normalizer.fit_transform(train)\r\n",
    "x_test = normalizer.fit_transform(test)\r\n",
    "\r\n",
    "y_train = lb.fit_transform(target)"
   ],
   "outputs": [],
   "metadata": {}
  },
  {
   "cell_type": "code",
   "execution_count": 11,
   "source": [
    "def new_model(hidden_layers = 1, nodes = 10, patience = 5):\r\n",
    "\r\n",
    "    file_name = f'no_cnn_{hidden_layers}_layer_{nodes}_nodes'\r\n",
    "\r\n",
    "    # Instantiating model\r\n",
    "    model = Sequential()\r\n",
    "\r\n",
    "    # Creating early_stopping\r\n",
    "    early_stopping_monitor = EarlyStopping(patience = patience,\r\n",
    "                                           monitor='val_loss')\r\n",
    "\r\n",
    "    # Adding hidden layers\r\n",
    "    for _ in range (0, hidden_layers):\r\n",
    "        \r\n",
    "        model.add(Dense(nodes, activation = 'relu'))\r\n",
    "\r\n",
    "    # Adding final layer\r\n",
    "    model.add(Dense(10, activation = 'softmax'))\r\n",
    "\r\n",
    "    # Compiling the model\r\n",
    "    model.compile(optimizer = 'adam', \r\n",
    "                  loss = 'categorical_crossentropy',\r\n",
    "                  metrics = ['accuracy'])\r\n",
    "\r\n",
    "    # Fit the model\r\n",
    "    model.fit(x_train, \r\n",
    "              y_train, \r\n",
    "              epochs = 100,  \r\n",
    "              shuffle = True, \r\n",
    "              verbose = 2,\r\n",
    "              callbacks = [early_stopping_monitor],\r\n",
    "              validation_split = 0.3)\r\n",
    "\r\n",
    "    # Creating submission file\r\n",
    "    submission = pd.DataFrame(np.argmax(model.predict(x_test), axis = -1), columns = ['Label'])\r\n",
    "\r\n",
    "    # Creating ImageID index\r\n",
    "    submission.rename_axis('ImageId', inplace=True)\r\n",
    "\r\n",
    "    #Saving model\r\n",
    "    model.save(f'../models/{file_name}.h5')\r\n",
    "\r\n",
    "    # Saving submission file\r\n",
    "    submission.to_csv(f'../submission/{file_name}.csv')\r\n"
   ],
   "outputs": [],
   "metadata": {}
  },
  {
   "cell_type": "code",
   "execution_count": 12,
   "source": [
    "# Best result so far!\r\n",
    "new_model(hidden_layers = 3, nodes = 40)"
   ],
   "outputs": [
    {
     "output_type": "stream",
     "name": "stdout",
     "text": [
      "Epoch 1/100\n",
      "919/919 - 3s - loss: 0.4318 - accuracy: 0.8692 - val_loss: 0.2128 - val_accuracy: 0.9368\n",
      "Epoch 2/100\n",
      "919/919 - 1s - loss: 0.1912 - accuracy: 0.9433 - val_loss: 0.1999 - val_accuracy: 0.9371\n",
      "Epoch 3/100\n",
      "919/919 - 2s - loss: 0.1433 - accuracy: 0.9574 - val_loss: 0.1471 - val_accuracy: 0.9556\n",
      "Epoch 4/100\n",
      "919/919 - 1s - loss: 0.1143 - accuracy: 0.9647 - val_loss: 0.1493 - val_accuracy: 0.9538\n",
      "Epoch 5/100\n",
      "919/919 - 1s - loss: 0.0971 - accuracy: 0.9701 - val_loss: 0.1270 - val_accuracy: 0.9612\n",
      "Epoch 6/100\n",
      "919/919 - 1s - loss: 0.0820 - accuracy: 0.9747 - val_loss: 0.1628 - val_accuracy: 0.9525\n",
      "Epoch 7/100\n",
      "919/919 - 1s - loss: 0.0734 - accuracy: 0.9764 - val_loss: 0.1429 - val_accuracy: 0.9589\n",
      "Epoch 8/100\n",
      "919/919 - 1s - loss: 0.0627 - accuracy: 0.9803 - val_loss: 0.1315 - val_accuracy: 0.9641\n",
      "Epoch 9/100\n",
      "919/919 - 1s - loss: 0.0560 - accuracy: 0.9820 - val_loss: 0.1449 - val_accuracy: 0.9604\n",
      "Epoch 10/100\n",
      "919/919 - 1s - loss: 0.0511 - accuracy: 0.9836 - val_loss: 0.1245 - val_accuracy: 0.9658\n",
      "Epoch 11/100\n",
      "919/919 - 2s - loss: 0.0407 - accuracy: 0.9872 - val_loss: 0.1317 - val_accuracy: 0.9647\n",
      "Epoch 12/100\n",
      "919/919 - 2s - loss: 0.0378 - accuracy: 0.9878 - val_loss: 0.1659 - val_accuracy: 0.9611\n",
      "Epoch 13/100\n",
      "919/919 - 2s - loss: 0.0366 - accuracy: 0.9881 - val_loss: 0.1409 - val_accuracy: 0.9674\n",
      "Epoch 14/100\n",
      "919/919 - 1s - loss: 0.0291 - accuracy: 0.9900 - val_loss: 0.1633 - val_accuracy: 0.9617\n",
      "Epoch 15/100\n",
      "919/919 - 1s - loss: 0.0326 - accuracy: 0.9889 - val_loss: 0.1460 - val_accuracy: 0.9675\n"
     ]
    }
   ],
   "metadata": {}
  }
 ],
 "metadata": {
  "orig_nbformat": 4,
  "language_info": {
   "name": "python",
   "version": "3.9.6",
   "mimetype": "text/x-python",
   "codemirror_mode": {
    "name": "ipython",
    "version": 3
   },
   "pygments_lexer": "ipython3",
   "nbconvert_exporter": "python",
   "file_extension": ".py"
  },
  "kernelspec": {
   "name": "python3",
   "display_name": "Python 3.9.6 64-bit"
  },
  "interpreter": {
   "hash": "b36092a86d5950b17c408d584e311ca1413a5f9d8627407d6aab5af74bae2eab"
  }
 },
 "nbformat": 4,
 "nbformat_minor": 2
}