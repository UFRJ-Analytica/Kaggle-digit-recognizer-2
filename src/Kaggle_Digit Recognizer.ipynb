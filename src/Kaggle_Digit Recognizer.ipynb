{
 "cells": [
  {
   "cell_type": "code",
   "execution_count": 1,
   "source": [
    "import cv2\r\n",
    "import numpy as np\r\n",
    "import matplotlib.pyplot as plt\r\n",
    "import pandas as pd\r\n",
    "from sklearn.metrics import accuracy_score\r\n",
    "\r\n",
    "from pymoo.optimize import minimize\r\n",
    "from pymoo.model.problem import Problem\r\n",
    "from pymoo.algorithms.nsga2 import NSGA2"
   ],
   "outputs": [],
   "metadata": {}
  },
  {
   "cell_type": "code",
   "execution_count": 2,
   "source": [
    "dados_treinamento = pd.read_csv('../data/train.zip')\r\n",
    "dados_teste = pd.read_csv('../data/test.zip')"
   ],
   "outputs": [],
   "metadata": {}
  },
  {
   "cell_type": "code",
   "execution_count": 3,
   "source": [
    "treinamento = dados_treinamento.drop(labels = ['label'], axis = 1)\r\n",
    "treinamento = np.array(treinamento, dtype = np.float32)"
   ],
   "outputs": [],
   "metadata": {}
  },
  {
   "cell_type": "code",
   "execution_count": 4,
   "source": [
    "teste = np.array(dados_teste, dtype = np.float32)"
   ],
   "outputs": [],
   "metadata": {}
  },
  {
   "cell_type": "code",
   "execution_count": 5,
   "source": [
    "labels = dados_treinamento['label']\r\n",
    "labels = np.array(labels)"
   ],
   "outputs": [],
   "metadata": {}
  },
  {
   "cell_type": "code",
   "execution_count": 6,
   "source": [
    "knn4 = cv2.ml.KNearest_create()\r\n",
    "knn4.train(treinamento, cv2.ml.ROW_SAMPLE, labels)"
   ],
   "outputs": [
    {
     "output_type": "execute_result",
     "data": {
      "text/plain": [
       "True"
      ]
     },
     "metadata": {},
     "execution_count": 6
    }
   ],
   "metadata": {}
  },
  {
   "cell_type": "code",
   "execution_count": 7,
   "source": [
    "ret, result, neighbours, dist = knn4.findNearest(teste, k=3)"
   ],
   "outputs": [],
   "metadata": {}
  },
  {
   "cell_type": "code",
   "execution_count": 8,
   "source": [
    "result"
   ],
   "outputs": [
    {
     "output_type": "execute_result",
     "data": {
      "text/plain": [
       "array([[2.],\n",
       "       [0.],\n",
       "       [9.],\n",
       "       ...,\n",
       "       [3.],\n",
       "       [9.],\n",
       "       [2.]], dtype=float32)"
      ]
     },
     "metadata": {},
     "execution_count": 8
    }
   ],
   "metadata": {}
  },
  {
   "cell_type": "code",
   "execution_count": 9,
   "source": [
    "numeros, contador = np.unique(result, return_counts=True)\r\n",
    "dict(zip(numeros, contador))"
   ],
   "outputs": [
    {
     "output_type": "execute_result",
     "data": {
      "text/plain": [
       "{0.0: 2816,\n",
       " 1.0: 3315,\n",
       " 2.0: 2767,\n",
       " 3.0: 2781,\n",
       " 4.0: 2736,\n",
       " 5.0: 2521,\n",
       " 6.0: 2765,\n",
       " 7.0: 2931,\n",
       " 8.0: 2575,\n",
       " 9.0: 2793}"
      ]
     },
     "metadata": {},
     "execution_count": 9
    }
   ],
   "metadata": {}
  },
  {
   "cell_type": "code",
   "execution_count": 10,
   "source": [
    "result[:10]"
   ],
   "outputs": [
    {
     "output_type": "execute_result",
     "data": {
      "text/plain": [
       "array([[2.],\n",
       "       [0.],\n",
       "       [9.],\n",
       "       [9.],\n",
       "       [3.],\n",
       "       [7.],\n",
       "       [0.],\n",
       "       [3.],\n",
       "       [0.],\n",
       "       [3.]], dtype=float32)"
      ]
     },
     "metadata": {},
     "execution_count": 10
    }
   ],
   "metadata": {}
  },
  {
   "cell_type": "code",
   "execution_count": 11,
   "source": [
    "teste_reshaped = dados_teste.values.reshape(-1,28,28,1)\r\n",
    "treinamento_reshaped = treinamento.reshape(-1,28,28,1)"
   ],
   "outputs": [],
   "metadata": {}
  },
  {
   "cell_type": "code",
   "execution_count": 12,
   "source": [
    "plt.imshow(teste_reshaped[0], cmap = 'gray')"
   ],
   "outputs": [
    {
     "output_type": "execute_result",
     "data": {
      "text/plain": [
       "<matplotlib.image.AxesImage at 0x1cf31b052b0>"
      ]
     },
     "metadata": {},
     "execution_count": 12
    },
    {
     "output_type": "display_data",
     "data": {
      "text/plain": [
       "<Figure size 432x288 with 1 Axes>"
      ],
      "image/png": "[encoded data removed]"
     },
     "metadata": {
      "needs_background": "light"
     }
    }
   ],
   "metadata": {}
  },
  {
   "cell_type": "code",
   "execution_count": 172,
   "source": [
    "resultado = []"
   ],
   "outputs": [],
   "metadata": {}
  },
  {
   "cell_type": "code",
   "execution_count": 174,
   "source": [
    "for i in range(len(result)):\n",
    "    resultado.append(int(result[i][0]))"
   ],
   "outputs": [],
   "metadata": {}
  },
  {
   "cell_type": "code",
   "execution_count": 176,
   "source": [
    "submissao = pd.DataFrame(resultado, columns = ['Label'])"
   ],
   "outputs": [],
   "metadata": {}
  },
  {
   "cell_type": "code",
   "execution_count": 177,
   "source": [
    "submissao.to_csv('D:/Dados/Desktop/R/Kaggle - Digit Recognizer/submissao.csv', index = False)"
   ],
   "outputs": [],
   "metadata": {}
  },
  {
   "cell_type": "code",
   "execution_count": null,
   "source": [],
   "outputs": [],
   "metadata": {}
  },
  {
   "cell_type": "code",
   "execution_count": null,
   "source": [],
   "outputs": [],
   "metadata": {}
  },
  {
   "cell_type": "code",
   "execution_count": 31,
   "source": [
    "knn_comparacao = cv2.ml.KNearest_create()\n",
    "knn_comparacao.train(treinamento[0:40000], cv2.ml.ROW_SAMPLE, labels[0:40000])"
   ],
   "outputs": [
    {
     "output_type": "execute_result",
     "data": {
      "text/plain": [
       "True"
      ]
     },
     "metadata": {},
     "execution_count": 31
    }
   ],
   "metadata": {}
  },
  {
   "cell_type": "code",
   "execution_count": 69,
   "source": [
    "class MinimizarErro(Problem):\n",
    "    def __init__(self, **kwargs):\n",
    "        super().__init__(**kwargs)\n",
    "        self.gen = 1\n",
    "    def _evaluate(self, x, out, *args, **kwargs):\n",
    "        erro = []\n",
    "        print(f'Geração {self.gen}')\n",
    "        for x_vals in x:\n",
    "            ret, result, neighbours, dist = knn_comparacao.findNearest(treinamento[40000:], k = int(np.round(x_vals)))\n",
    "            erro.append(1 - accuracy_score(result, labels[40000:]))\n",
    "        \n",
    "        self.gen += 1\n",
    "        out[\"F\"] = np.array(erro)"
   ],
   "outputs": [],
   "metadata": {}
  },
  {
   "cell_type": "code",
   "execution_count": 70,
   "source": [
    "modelo_otimizacao = MinimizarErro(n_var=1, n_obj=1, xl=[1], xu=[10])\n",
    "algoritmo = NSGA2(pop_size = 10)\n",
    "criterio_parada = ('n_gen', 5)\n",
    "results = minimize(problem = modelo_otimizacao, algorithm = algoritmo, termination = criterio_parada)"
   ],
   "outputs": [
    {
     "output_type": "stream",
     "name": "stdout",
     "text": [
      "Geração 1\n",
      "Geração 2\n",
      "Geração 3\n",
      "Geração 4\n",
      "Geração 5\n"
     ]
    }
   ],
   "metadata": {}
  },
  {
   "cell_type": "code",
   "execution_count": 71,
   "source": [
    "results.F[-1]"
   ],
   "outputs": [
    {
     "output_type": "execute_result",
     "data": {
      "text/plain": [
       "array([0.032])"
      ]
     },
     "metadata": {},
     "execution_count": 71
    }
   ],
   "metadata": {}
  },
  {
   "cell_type": "code",
   "execution_count": 72,
   "source": [
    "np.round(results.X[-1])"
   ],
   "outputs": [
    {
     "output_type": "execute_result",
     "data": {
      "text/plain": [
       "array([3.])"
      ]
     },
     "metadata": {},
     "execution_count": 72
    }
   ],
   "metadata": {}
  },
  {
   "cell_type": "code",
   "execution_count": 53,
   "source": [
    "ret, result, neighbours, dist = knn_comparacao.findNearest(treinamento[40000:], k = 6)"
   ],
   "outputs": [],
   "metadata": {}
  },
  {
   "cell_type": "code",
   "execution_count": 54,
   "source": [
    "1- accuracy_score(result, labels[40000:])"
   ],
   "outputs": [
    {
     "output_type": "execute_result",
     "data": {
      "text/plain": [
       "0.03500000000000003"
      ]
     },
     "metadata": {},
     "execution_count": 54
    }
   ],
   "metadata": {}
  },
  {
   "cell_type": "code",
   "execution_count": null,
   "source": [
    "k = 1 -> 0.0335\n",
    "k = 2 -> 0.0395\n",
    "k = 3 -> 0.0320\n",
    "k = 4 -> 0.0335\n",
    "k = 5 -> 0.0330\n",
    "k = 6 -> 0.0350"
   ],
   "outputs": [],
   "metadata": {}
  },
  {
   "cell_type": "code",
   "execution_count": null,
   "source": [],
   "outputs": [],
   "metadata": {}
  },
  {
   "cell_type": "code",
   "execution_count": null,
   "source": [],
   "outputs": [],
   "metadata": {}
  }
 ],
 "metadata": {
  "kernelspec": {
   "display_name": "Python 3",
   "language": "python",
   "name": "python3"
  },
  "language_info": {
   "codemirror_mode": {
    "name": "ipython",
    "version": 3
   },
   "file_extension": ".py",
   "mimetype": "text/x-python",
   "name": "python",
   "nbconvert_exporter": "python",
   "pygments_lexer": "ipython3",
   "version": "3.8.11"
  }
 },
 "nbformat": 4,
 "nbformat_minor": 5
}