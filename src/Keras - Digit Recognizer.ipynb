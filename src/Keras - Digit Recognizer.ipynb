{
 "cells": [
  {
   "cell_type": "code",
   "execution_count": 99,
   "id": "653bbde6",
   "metadata": {},
   "outputs": [],
   "source": [
    "%matplotlib inline\n",
    "\n",
    "import matplotlib.pyplot as plt\n",
    "import numpy as np\n",
    "import pandas as pd\n",
    "\n",
    "import tensorflow as tf\n",
    "from tensorflow import keras\n",
    "from tensorflow.keras.models import Sequential, load_model\n",
    "from tensorflow.keras.layers import Activation, Dense, Flatten, BatchNormalization, Conv2D, MaxPool2D\n",
    "from tensorflow.keras.optimizers import Adam\n",
    "from tensorflow.keras.metrics import categorical_crossentropy\n",
    "from tensorflow.keras.preprocessing.image import ImageDataGenerator\n",
    "\n",
    "from sklearn.metrics import confusion_matrix\n",
    "import itertools\n",
    "\n",
    "import os"
   ]
  },
  {
   "cell_type": "code",
   "execution_count": 2,
   "id": "5a9c5518",
   "metadata": {},
   "outputs": [],
   "source": [
    "dados_treinamento = pd.read_table('D:/Dados/Desktop/R/Kaggle - Digit Recognizer/train.csv', sep=',')\n",
    "dados_teste = pd.read_table('D:/Dados/Desktop/R/Kaggle - Digit Recognizer/test.csv', sep=',')"
   ]
  },
  {
   "cell_type": "code",
   "execution_count": 7,
   "id": "33c9c3b9",
   "metadata": {},
   "outputs": [],
   "source": [
    "treinamento = dados_treinamento.drop(labels = ['label'], axis = 1)\n",
    "treinamento = np.array(treinamento, dtype = np.float32)\n",
    "teste = np.array(dados_teste, dtype = np.float32)\n",
    "labels_treinamento = dados_treinamento['label']\n",
    "labels_treinamento = np.array(labels_treinamento)"
   ]
  },
  {
   "cell_type": "code",
   "execution_count": 14,
   "id": "0f8445e3",
   "metadata": {},
   "outputs": [],
   "source": [
    "treinamento = treinamento.reshape(-1, 28, 28, 1)"
   ]
  },
  {
   "cell_type": "code",
   "execution_count": 78,
   "id": "2ffd56e4",
   "metadata": {},
   "outputs": [
    {
     "data": {
      "text/plain": [
       "(42000, 28, 28, 1)"
      ]
     },
     "execution_count": 78,
     "metadata": {},
     "output_type": "execute_result"
    }
   ],
   "source": [
    "treinamento.shape"
   ]
  },
  {
   "cell_type": "code",
   "execution_count": 73,
   "id": "c3903fb8",
   "metadata": {},
   "outputs": [],
   "source": [
    "labels_treinamento = labels_treinamento.reshape(-1, 1)"
   ]
  },
  {
   "cell_type": "code",
   "execution_count": 81,
   "id": "66e5ed63",
   "metadata": {},
   "outputs": [
    {
     "data": {
      "text/plain": [
       "(42000, 1)"
      ]
     },
     "execution_count": 81,
     "metadata": {},
     "output_type": "execute_result"
    }
   ],
   "source": [
    "labels_treinamento.shape"
   ]
  },
  {
   "cell_type": "code",
   "execution_count": 40,
   "id": "aa42ae84",
   "metadata": {},
   "outputs": [],
   "source": [
    "teste = teste.reshape(-1, 28, 28, 1)"
   ]
  },
  {
   "cell_type": "code",
   "execution_count": 80,
   "id": "84914f5d",
   "metadata": {},
   "outputs": [
    {
     "data": {
      "text/plain": [
       "(28000, 28, 28, 1)"
      ]
     },
     "execution_count": 80,
     "metadata": {},
     "output_type": "execute_result"
    }
   ],
   "source": [
    "teste.shape"
   ]
  },
  {
   "cell_type": "code",
   "execution_count": 36,
   "id": "b1f176b9",
   "metadata": {},
   "outputs": [
    {
     "data": {
      "image/png": "[encoded data removed]",
      "text/plain": [
       "<Figure size 432x288 with 1 Axes>"
      ]
     },
     "metadata": {
      "needs_background": "light"
     },
     "output_type": "display_data"
    }
   ],
   "source": [
    "plt.title(str(labels_treinamento[3]))\n",
    "plt.imshow(treinamento[3], cmap = 'gray')\n",
    "plt.show()"
   ]
  },
  {
   "cell_type": "code",
   "execution_count": 74,
   "id": "382d5e8a",
   "metadata": {},
   "outputs": [],
   "source": [
    "model = Sequential([\n",
    "    Conv2D(filters = 32, kernel_size = (3,3), activation = 'relu', padding = 'same', input_shape = (28,28,1)),\n",
    "    MaxPool2D(pool_size = (2,2), strides = 2),\n",
    "    Conv2D(filters = 64, kernel_size = (3,3), activation = 'relu', padding = 'same'),\n",
    "    MaxPool2D(pool_size = (2,2), strides = 2),\n",
    "    Flatten(),\n",
    "    Dense(units = 10, activation = 'softmax')\n",
    "])"
   ]
  },
  {
   "cell_type": "code",
   "execution_count": 75,
   "id": "363c9f6d",
   "metadata": {},
   "outputs": [
    {
     "name": "stdout",
     "output_type": "stream",
     "text": [
      "Model: \"sequential_3\"\n",
      "_________________________________________________________________\n",
      "Layer (type)                 Output Shape              Param #   \n",
      "=================================================================\n",
      "conv2d_6 (Conv2D)            (None, 28, 28, 32)        320       \n",
      "_________________________________________________________________\n",
      "max_pooling2d_6 (MaxPooling2 (None, 14, 14, 32)        0         \n",
      "_________________________________________________________________\n",
      "conv2d_7 (Conv2D)            (None, 14, 14, 64)        18496     \n",
      "_________________________________________________________________\n",
      "max_pooling2d_7 (MaxPooling2 (None, 7, 7, 64)          0         \n",
      "_________________________________________________________________\n",
      "flatten_3 (Flatten)          (None, 3136)              0         \n",
      "_________________________________________________________________\n",
      "dense_3 (Dense)              (None, 10)                31370     \n",
      "=================================================================\n",
      "Total params: 50,186\n",
      "Trainable params: 50,186\n",
      "Non-trainable params: 0\n",
      "_________________________________________________________________\n"
     ]
    }
   ],
   "source": [
    "model.summary()"
   ]
  },
  {
   "cell_type": "code",
   "execution_count": 76,
   "id": "b33eed60",
   "metadata": {},
   "outputs": [],
   "source": [
    "model.compile(optimizer = Adam(learning_rate = 0.0001), loss = 'sparse_categorical_crossentropy', metrics = ['accuracy'])"
   ]
  },
  {
   "cell_type": "code",
   "execution_count": 77,
   "id": "3e318569",
   "metadata": {},
   "outputs": [
    {
     "name": "stdout",
     "output_type": "stream",
     "text": [
      "Epoch 1/10\n",
      "1313/1313 - 17s - loss: 1.1797 - accuracy: 0.8582\n",
      "Epoch 2/10\n",
      "1313/1313 - 17s - loss: 0.1995 - accuracy: 0.9586\n",
      "Epoch 3/10\n",
      "1313/1313 - 17s - loss: 0.1207 - accuracy: 0.9721\n",
      "Epoch 4/10\n",
      "1313/1313 - 17s - loss: 0.0803 - accuracy: 0.9786\n",
      "Epoch 5/10\n",
      "1313/1313 - 17s - loss: 0.0602 - accuracy: 0.9837\n",
      "Epoch 6/10\n",
      "1313/1313 - 17s - loss: 0.0452 - accuracy: 0.9867\n",
      "Epoch 7/10\n",
      "1313/1313 - 17s - loss: 0.0335 - accuracy: 0.9897\n",
      "Epoch 8/10\n",
      "1313/1313 - 16s - loss: 0.0270 - accuracy: 0.9913\n",
      "Epoch 9/10\n",
      "1313/1313 - 17s - loss: 0.0193 - accuracy: 0.9935\n",
      "Epoch 10/10\n",
      "1313/1313 - 17s - loss: 0.0153 - accuracy: 0.9947\n"
     ]
    },
    {
     "data": {
      "text/plain": [
       "<tensorflow.python.keras.callbacks.History at 0x1e78e9b5670>"
      ]
     },
     "execution_count": 77,
     "metadata": {},
     "output_type": "execute_result"
    }
   ],
   "source": [
    "model.fit(x = treinamento, y = labels_treinamento, epochs = 10, verbose = 2)"
   ]
  },
  {
   "cell_type": "code",
   "execution_count": 82,
   "id": "80f88bbd",
   "metadata": {},
   "outputs": [],
   "source": [
    "predicoes = model.predict(x = teste, verbose = 0)"
   ]
  },
  {
   "cell_type": "code",
   "execution_count": 104,
   "id": "0a5d3c7c",
   "metadata": {},
   "outputs": [
    {
     "data": {
      "text/plain": [
       "array([2.6870440e-22, 1.6987967e-12, 4.6152531e-09, 2.0109131e-12,\n",
       "       3.8844782e-08, 5.2372928e-13, 1.3816959e-21, 1.3292759e-10,\n",
       "       3.7407193e-09, 1.0000000e+00], dtype=float32)"
      ]
     },
     "execution_count": 104,
     "metadata": {},
     "output_type": "execute_result"
    }
   ],
   "source": [
    "# Probabilidade de ser cada número\n",
    "predicoes[2]"
   ]
  },
  {
   "cell_type": "code",
   "execution_count": 105,
   "id": "a01ab610",
   "metadata": {},
   "outputs": [
    {
     "data": {
      "text/plain": [
       "<matplotlib.image.AxesImage at 0x1e797406460>"
      ]
     },
     "execution_count": 105,
     "metadata": {},
     "output_type": "execute_result"
    },
    {
     "data": {
      "image/png": "[encoded data removed]",
      "text/plain": [
       "<Figure size 432x288 with 1 Axes>"
      ]
     },
     "metadata": {
      "needs_background": "light"
     },
     "output_type": "display_data"
    }
   ],
   "source": [
    "plt.imshow(teste[2], cmap = 'gray')"
   ]
  },
  {
   "cell_type": "code",
   "execution_count": 88,
   "id": "56b65bf2",
   "metadata": {},
   "outputs": [],
   "source": [
    "predicoes_arredondadas = np.argmax(predicoes, axis = -1)"
   ]
  },
  {
   "cell_type": "code",
   "execution_count": 90,
   "id": "eecde29e",
   "metadata": {},
   "outputs": [
    {
     "data": {
      "text/plain": [
       "array([2, 0, 9, 0, 3, 7, 0, 3, 0, 3], dtype=int64)"
      ]
     },
     "execution_count": 90,
     "metadata": {},
     "output_type": "execute_result"
    }
   ],
   "source": [
    "predicoes_arredondadas[0:10]"
   ]
  },
  {
   "cell_type": "code",
   "execution_count": 95,
   "id": "0e97ab6f",
   "metadata": {},
   "outputs": [],
   "source": [
    "submissao = pd.DataFrame(predicoes_arredondadas, columns = ['Label'])"
   ]
  },
  {
   "cell_type": "code",
   "execution_count": 96,
   "id": "5e63f66f",
   "metadata": {},
   "outputs": [],
   "source": [
    "submissao.to_csv('D:/Dados/Desktop/R/Kaggle - Digit Recognizer/submissao_keras.csv', index = False)"
   ]
  },
  {
   "cell_type": "code",
   "execution_count": null,
   "id": "be73a6fb",
   "metadata": {},
   "outputs": [],
   "source": []
  },
  {
   "cell_type": "code",
   "execution_count": 112,
   "id": "0599a8a4",
   "metadata": {},
   "outputs": [
    {
     "data": {
      "text/plain": [
       "{0: 2785,\n",
       " 1: 3176,\n",
       " 2: 2706,\n",
       " 3: 2862,\n",
       " 4: 2826,\n",
       " 5: 2529,\n",
       " 6: 2714,\n",
       " 7: 2895,\n",
       " 8: 2647,\n",
       " 9: 2860}"
      ]
     },
     "execution_count": 112,
     "metadata": {},
     "output_type": "execute_result"
    }
   ],
   "source": [
    "numeros, contador = np.unique(predicoes_arredondadas, return_counts=True)\n",
    "dict(zip(numeros, contador))"
   ]
  },
  {
   "cell_type": "code",
   "execution_count": null,
   "id": "550f790f",
   "metadata": {},
   "outputs": [],
   "source": []
  },
  {
   "cell_type": "code",
   "execution_count": null,
   "id": "df4b9170",
   "metadata": {},
   "outputs": [],
   "source": [
    "## Salvando o modelo"
   ]
  },
  {
   "cell_type": "code",
   "execution_count": 98,
   "id": "8574081e",
   "metadata": {},
   "outputs": [],
   "source": [
    "if os.path.isfile('D:/Dados/Desktop/R/Kaggle - Digit Recognizer/modelo_digitos_keras.h5') is False:\n",
    "    model.save('D:/Dados/Desktop/R/Kaggle - Digit Recognizer/modelo_digitos_keras.h5')"
   ]
  },
  {
   "cell_type": "code",
   "execution_count": 100,
   "id": "0865cec6",
   "metadata": {},
   "outputs": [],
   "source": [
    "novo_modelo = load_model('D:/Dados/Desktop/R/Kaggle - Digit Recognizer/modelo_digitos_keras.h5')"
   ]
  },
  {
   "cell_type": "code",
   "execution_count": 103,
   "id": "4df95ee5",
   "metadata": {},
   "outputs": [
    {
     "data": {
      "text/plain": [
       "array([[2.0610892e-18, 7.3501051e-19, 1.0000000e+00, ..., 3.1493840e-12,\n",
       "        4.7918748e-14, 4.3365794e-13],\n",
       "       [1.0000000e+00, 4.2215809e-20, 4.0834277e-11, ..., 2.2172635e-12,\n",
       "        1.2113730e-13, 1.1223763e-11],\n",
       "       [2.6870440e-22, 1.6987967e-12, 4.6152531e-09, ..., 1.3292759e-10,\n",
       "        3.7407193e-09, 1.0000000e+00],\n",
       "       ...,\n",
       "       [7.6483013e-25, 5.6835053e-22, 2.7419232e-22, ..., 1.8288541e-18,\n",
       "        1.2658840e-16, 1.6038568e-13],\n",
       "       [4.5244599e-15, 2.1658717e-15, 2.7611689e-17, ..., 6.4293597e-09,\n",
       "        8.6030391e-13, 9.9998820e-01],\n",
       "       [1.3808325e-20, 1.8046527e-19, 1.0000000e+00, ..., 1.0991491e-14,\n",
       "        6.3414619e-14, 1.0413191e-13]], dtype=float32)"
      ]
     },
     "execution_count": 103,
     "metadata": {},
     "output_type": "execute_result"
    }
   ],
   "source": [
    "novo_modelo.predict(x = teste, verbose = 0)"
   ]
  },
  {
   "cell_type": "code",
   "execution_count": null,
   "id": "76ce96f9",
   "metadata": {},
   "outputs": [],
   "source": []
  },
  {
   "cell_type": "code",
   "execution_count": null,
   "id": "6cd95b3c",
   "metadata": {},
   "outputs": [],
   "source": []
  },
  {
   "cell_type": "code",
   "execution_count": null,
   "id": "532d3448",
   "metadata": {},
   "outputs": [],
   "source": []
  }
 ],
 "metadata": {
  "kernelspec": {
   "display_name": "Python 3",
   "language": "python",
   "name": "python3"
  },
  "language_info": {
   "codemirror_mode": {
    "name": "ipython",
    "version": 3
   },
   "file_extension": ".py",
   "mimetype": "text/x-python",
   "name": "python",
   "nbconvert_exporter": "python",
   "pygments_lexer": "ipython3",
   "version": "3.8.10"
  }
 },
 "nbformat": 4,
 "nbformat_minor": 5
}
