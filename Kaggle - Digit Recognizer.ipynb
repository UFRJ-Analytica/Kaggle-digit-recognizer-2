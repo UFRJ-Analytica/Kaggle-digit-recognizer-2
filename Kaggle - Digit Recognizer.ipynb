{
 "cells": [
  {
   "cell_type": "code",
   "execution_count": 1,
   "id": "51622895",
   "metadata": {},
   "outputs": [],
   "source": [
    "import cv2\n",
    "import numpy as np\n",
    "import matplotlib.pyplot as plt\n",
    "import pandas as pd\n",
    "from sklearn.metrics import accuracy_score\n",
    "\n",
    "from pymoo.optimize import minimize\n",
    "from pymoo.model.problem import Problem\n",
    "from pymoo.algorithms.nsga2 import NSGA2"
   ]
  },
  {
   "cell_type": "code",
   "execution_count": 2,
   "id": "eb4b09f1",
   "metadata": {},
   "outputs": [],
   "source": [
    "dados_treinamento = pd.read_table('D:/Dados/Desktop/R/Kaggle - Digit Recognizer/train.csv', sep=',')\n",
    "dados_teste = pd.read_table('D:/Dados/Desktop/R/Kaggle - Digit Recognizer/test.csv', sep=',')"
   ]
  },
  {
   "cell_type": "code",
   "execution_count": 3,
   "id": "3d3c9021",
   "metadata": {},
   "outputs": [],
   "source": [
    "treinamento = dados_treinamento.drop(labels = ['label'], axis = 1)\n",
    "treinamento = np.array(treinamento, dtype = np.float32)"
   ]
  },
  {
   "cell_type": "code",
   "execution_count": 4,
   "id": "24e0df74",
   "metadata": {},
   "outputs": [],
   "source": [
    "teste = np.array(dados_teste, dtype = np.float32)"
   ]
  },
  {
   "cell_type": "code",
   "execution_count": 5,
   "id": "3dcac490",
   "metadata": {},
   "outputs": [],
   "source": [
    "labels = dados_treinamento['label']\n",
    "labels = np.array(labels)"
   ]
  },
  {
   "cell_type": "code",
   "execution_count": 6,
   "id": "29d013a5",
   "metadata": {},
   "outputs": [
    {
     "data": {
      "text/plain": [
       "True"
      ]
     },
     "execution_count": 6,
     "metadata": {},
     "output_type": "execute_result"
    }
   ],
   "source": [
    "knn4 = cv2.ml.KNearest_create()\n",
    "knn4.train(treinamento, cv2.ml.ROW_SAMPLE, labels)"
   ]
  },
  {
   "cell_type": "code",
   "execution_count": 7,
   "id": "9236ce7d",
   "metadata": {},
   "outputs": [],
   "source": [
    "ret, result, neighbours, dist = knn4.findNearest(teste, k=3)"
   ]
  },
  {
   "cell_type": "code",
   "execution_count": 8,
   "id": "16481c98",
   "metadata": {},
   "outputs": [
    {
     "data": {
      "text/plain": [
       "array([[2.],\n",
       "       [0.],\n",
       "       [9.],\n",
       "       ...,\n",
       "       [3.],\n",
       "       [9.],\n",
       "       [2.]], dtype=float32)"
      ]
     },
     "execution_count": 8,
     "metadata": {},
     "output_type": "execute_result"
    }
   ],
   "source": [
    "result"
   ]
  },
  {
   "cell_type": "code",
   "execution_count": 9,
   "id": "40a5f3dc",
   "metadata": {},
   "outputs": [
    {
     "data": {
      "text/plain": [
       "{0.0: 2816,\n",
       " 1.0: 3315,\n",
       " 2.0: 2767,\n",
       " 3.0: 2781,\n",
       " 4.0: 2736,\n",
       " 5.0: 2521,\n",
       " 6.0: 2765,\n",
       " 7.0: 2931,\n",
       " 8.0: 2575,\n",
       " 9.0: 2793}"
      ]
     },
     "execution_count": 9,
     "metadata": {},
     "output_type": "execute_result"
    }
   ],
   "source": [
    "numeros, contador = np.unique(result, return_counts=True)\n",
    "dict(zip(numeros, contador))"
   ]
  },
  {
   "cell_type": "code",
   "execution_count": 10,
   "id": "bcbf2307",
   "metadata": {},
   "outputs": [
    {
     "data": {
      "text/plain": [
       "array([[2.],\n",
       "       [0.],\n",
       "       [9.],\n",
       "       [9.],\n",
       "       [3.],\n",
       "       [7.],\n",
       "       [0.],\n",
       "       [3.],\n",
       "       [0.],\n",
       "       [3.]], dtype=float32)"
      ]
     },
     "execution_count": 10,
     "metadata": {},
     "output_type": "execute_result"
    }
   ],
   "source": [
    "result[:10]"
   ]
  },
  {
   "cell_type": "code",
   "execution_count": 11,
   "id": "884d83a1",
   "metadata": {},
   "outputs": [],
   "source": [
    "teste_reshaped = dados_teste.values.reshape(-1,28,28,1)\n",
    "treinamento_reshaped = treinamento.reshape(-1,28,28,1)"
   ]
  },
  {
   "cell_type": "code",
   "execution_count": 12,
   "id": "6f7c3714",
   "metadata": {},
   "outputs": [
    {
     "data": {
      "text/plain": [
       "<matplotlib.image.AxesImage at 0x1cf31b052b0>"
      ]
     },
     "execution_count": 12,
     "metadata": {},
     "output_type": "execute_result"
    },
    {
     "data": {
      "image/png": "[encoded data removed]",
      "text/plain": [
       "<Figure size 432x288 with 1 Axes>"
      ]
     },
     "metadata": {
      "needs_background": "light"
     },
     "output_type": "display_data"
    }
   ],
   "source": [
    "plt.imshow(teste_reshaped[0], cmap = 'gray')"
   ]
  },
  {
   "cell_type": "code",
   "execution_count": 172,
   "id": "592ff7b0",
   "metadata": {},
   "outputs": [],
   "source": [
    "resultado = []"
   ]
  },
  {
   "cell_type": "code",
   "execution_count": 174,
   "id": "fb7e4f35",
   "metadata": {},
   "outputs": [],
   "source": [
    "for i in range(len(result)):\n",
    "    resultado.append(int(result[i][0]))"
   ]
  },
  {
   "cell_type": "code",
   "execution_count": 176,
   "id": "b4338230",
   "metadata": {},
   "outputs": [],
   "source": [
    "submissao = pd.DataFrame(resultado, columns = ['Label'])"
   ]
  },
  {
   "cell_type": "code",
   "execution_count": 177,
   "id": "c300ea67",
   "metadata": {},
   "outputs": [],
   "source": [
    "submissao.to_csv('D:/Dados/Desktop/R/Kaggle - Digit Recognizer/submissao.csv', index = False)"
   ]
  },
  {
   "cell_type": "code",
   "execution_count": null,
   "id": "0c62635b",
   "metadata": {},
   "outputs": [],
   "source": []
  },
  {
   "cell_type": "code",
   "execution_count": null,
   "id": "3162d3b6",
   "metadata": {},
   "outputs": [],
   "source": []
  },
  {
   "cell_type": "code",
   "execution_count": 31,
   "id": "50ee60b0",
   "metadata": {},
   "outputs": [
    {
     "data": {
      "text/plain": [
       "True"
      ]
     },
     "execution_count": 31,
     "metadata": {},
     "output_type": "execute_result"
    }
   ],
   "source": [
    "knn_comparacao = cv2.ml.KNearest_create()\n",
    "knn_comparacao.train(treinamento[0:40000], cv2.ml.ROW_SAMPLE, labels[0:40000])"
   ]
  },
  {
   "cell_type": "code",
   "execution_count": 69,
   "id": "40996522",
   "metadata": {},
   "outputs": [],
   "source": [
    "class MinimizarErro(Problem):\n",
    "    def __init__(self, **kwargs):\n",
    "        super().__init__(**kwargs)\n",
    "        self.gen = 1\n",
    "    def _evaluate(self, x, out, *args, **kwargs):\n",
    "        erro = []\n",
    "        print(f'Geração {self.gen}')\n",
    "        for x_vals in x:\n",
    "            ret, result, neighbours, dist = knn_comparacao.findNearest(treinamento[40000:], k = int(np.round(x_vals)))\n",
    "            erro.append(1 - accuracy_score(result, labels[40000:]))\n",
    "        \n",
    "        self.gen += 1\n",
    "        out[\"F\"] = np.array(erro)"
   ]
  },
  {
   "cell_type": "code",
   "execution_count": 70,
   "id": "35782c57",
   "metadata": {},
   "outputs": [
    {
     "name": "stdout",
     "output_type": "stream",
     "text": [
      "Geração 1\n",
      "Geração 2\n",
      "Geração 3\n",
      "Geração 4\n",
      "Geração 5\n"
     ]
    }
   ],
   "source": [
    "modelo_otimizacao = MinimizarErro(n_var=1, n_obj=1, xl=[1], xu=[10])\n",
    "algoritmo = NSGA2(pop_size = 10)\n",
    "criterio_parada = ('n_gen', 5)\n",
    "results = minimize(problem = modelo_otimizacao, algorithm = algoritmo, termination = criterio_parada)"
   ]
  },
  {
   "cell_type": "code",
   "execution_count": 71,
   "id": "eb7e2fe0",
   "metadata": {},
   "outputs": [
    {
     "data": {
      "text/plain": [
       "array([0.032])"
      ]
     },
     "execution_count": 71,
     "metadata": {},
     "output_type": "execute_result"
    }
   ],
   "source": [
    "results.F[-1]"
   ]
  },
  {
   "cell_type": "code",
   "execution_count": 72,
   "id": "7fef9aa0",
   "metadata": {},
   "outputs": [
    {
     "data": {
      "text/plain": [
       "array([3.])"
      ]
     },
     "execution_count": 72,
     "metadata": {},
     "output_type": "execute_result"
    }
   ],
   "source": [
    "np.round(results.X[-1])"
   ]
  },
  {
   "cell_type": "code",
   "execution_count": 53,
   "id": "f052bc53",
   "metadata": {},
   "outputs": [],
   "source": [
    "ret, result, neighbours, dist = knn_comparacao.findNearest(treinamento[40000:], k = 6)"
   ]
  },
  {
   "cell_type": "code",
   "execution_count": 54,
   "id": "9c168dff",
   "metadata": {},
   "outputs": [
    {
     "data": {
      "text/plain": [
       "0.03500000000000003"
      ]
     },
     "execution_count": 54,
     "metadata": {},
     "output_type": "execute_result"
    }
   ],
   "source": [
    "1- accuracy_score(result, labels[40000:])"
   ]
  },
  {
   "cell_type": "code",
   "execution_count": null,
   "id": "b60025ca",
   "metadata": {},
   "outputs": [],
   "source": [
    "k = 1 -> 0.0335\n",
    "k = 2 -> 0.0395\n",
    "k = 3 -> 0.0320\n",
    "k = 4 -> 0.0335\n",
    "k = 5 -> 0.0330\n",
    "k = 6 -> 0.0350"
   ]
  },
  {
   "cell_type": "code",
   "execution_count": null,
   "id": "136af835",
   "metadata": {},
   "outputs": [],
   "source": []
  },
  {
   "cell_type": "code",
   "execution_count": null,
   "id": "dca4e2fb",
   "metadata": {},
   "outputs": [],
   "source": []
  }
 ],
 "metadata": {
  "kernelspec": {
   "display_name": "Python 3",
   "language": "python",
   "name": "python3"
  },
  "language_info": {
   "codemirror_mode": {
    "name": "ipython",
    "version": 3
   },
   "file_extension": ".py",
   "mimetype": "text/x-python",
   "name": "python",
   "nbconvert_exporter": "python",
   "pygments_lexer": "ipython3",
   "version": "3.8.11"
  }
 },
 "nbformat": 4,
 "nbformat_minor": 5
}
