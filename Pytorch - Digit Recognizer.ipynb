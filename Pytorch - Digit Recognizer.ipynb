{
 "cells": [
  {
   "cell_type": "code",
   "execution_count": 57,
   "id": "de45d11d",
   "metadata": {},
   "outputs": [],
   "source": [
    "import torch\n",
    "import torch.nn as nn\n",
    "import torch.nn.functional as F\n",
    "import torch.optim as optim\n",
    "\n",
    "import torchvision\n",
    "import torchvision.transforms as transforms\n",
    "\n",
    "%matplotlib inline\n",
    "import pandas as pd\n",
    "import numpy as np\n",
    "import matplotlib.pyplot as plt"
   ]
  },
  {
   "cell_type": "code",
   "execution_count": 173,
   "id": "2c8c38a8",
   "metadata": {},
   "outputs": [
    {
     "name": "stdout",
     "output_type": "stream",
     "text": [
      "cuda:0\n"
     ]
    }
   ],
   "source": [
    "device = torch.device('cuda:0' if torch.cuda.is_available() else 'cpu')\n",
    "print(device)"
   ]
  },
  {
   "cell_type": "code",
   "execution_count": 5,
   "id": "5d67739f",
   "metadata": {},
   "outputs": [],
   "source": [
    "dados_treinamento = pd.read_table('D:/Dados/Desktop/R/Kaggle - Digit Recognizer/train.csv', sep=',')\n",
    "dados_teste = pd.read_table('D:/Dados/Desktop/R/Kaggle - Digit Recognizer/test.csv', sep=',')"
   ]
  },
  {
   "cell_type": "code",
   "execution_count": 125,
   "id": "38f48f14",
   "metadata": {},
   "outputs": [],
   "source": [
    "treinamento = dados_treinamento.drop(labels = ['label'], axis = 1)\n",
    "treinamento = np.array(treinamento, dtype = np.float32)\n",
    "teste = np.array(dados_teste, dtype = np.float32)\n",
    "labels_treinamento = dados_treinamento['label']\n",
    "labels_treinamento = np.array(labels_treinamento)"
   ]
  },
  {
   "cell_type": "code",
   "execution_count": 126,
   "id": "f69ae3b7",
   "metadata": {},
   "outputs": [],
   "source": [
    "treinamento = treinamento.reshape(-1, 28, 28, 1)\n",
    "labels_treinamento = labels_treinamento.reshape(-1, 1)\n",
    "teste = teste.reshape(-1, 28, 28, 1)"
   ]
  },
  {
   "cell_type": "code",
   "execution_count": 227,
   "id": "1e8cb087",
   "metadata": {},
   "outputs": [],
   "source": [
    "class Network(nn.Module):\n",
    "    def __init__(self):\n",
    "        super().__init__()\n",
    "        \n",
    "        self.conv1 = nn.Conv2d(in_channels = 1, out_channels = 6, kernel_size = (5,5))\n",
    "        self.conv2 = nn.Conv2d(in_channels = 6, out_channels = 12, kernel_size = (5,5))\n",
    "        \n",
    "        self.fc1 = nn.Linear(in_features = 192, out_features = 120)\n",
    "        self.fc2 = nn.Linear(in_features = 120, out_features = 60)\n",
    "        self.out = nn.Linear(in_features = 60, out_features = 10)\n",
    "        \n",
    "    def forward(self, t):\n",
    "        \n",
    "        t = F.relu(self.conv1(t))\n",
    "        t = F.max_pool2d(t, kernel_size = (2,2), stride = 2)\n",
    "        \n",
    "        t = F.relu(self.conv2(t))\n",
    "        t = F.max_pool2d(t, kernel_size = (2,2), stride = 2)\n",
    "        \n",
    "        t = t.reshape(-1, 192)\n",
    "        \n",
    "        t = F.relu(self.fc1(t))\n",
    "        t = F.relu(self.fc2(t))\n",
    "        t = self.out(t)\n",
    "        \n",
    "        return t"
   ]
  },
  {
   "cell_type": "code",
   "execution_count": 186,
   "id": "d23295b1",
   "metadata": {},
   "outputs": [],
   "source": [
    "def numero_predicoes_corretas(preds, labels):\n",
    "    return preds.argmax(dim = 1).eq(labels).sum().item()"
   ]
  },
  {
   "cell_type": "code",
   "execution_count": 228,
   "id": "63d15381",
   "metadata": {},
   "outputs": [],
   "source": [
    "model = Network()\n",
    "model.to(device)\n",
    "\n",
    "#train_loader = torch.utils.data.DataLoader(treinamento, batch_size = 50)\n",
    "\n",
    "\n",
    "optimizer = optim.Adam(model.parameters(), lr = 0.001)"
   ]
  },
  {
   "cell_type": "code",
   "execution_count": 229,
   "id": "0e82b52f",
   "metadata": {},
   "outputs": [
    {
     "name": "stdout",
     "output_type": "stream",
     "text": [
      "Época:  0 total correct:  1577 loss:  1368.3014583783192\n",
      "Época:  1 total correct:  1857 loss:  541.7550533440881\n",
      "Época:  2 total correct:  1878 loss:  422.0764974505745\n",
      "Época:  3 total correct:  1886 loss:  390.1978168694206\n",
      "Época:  4 total correct:  1902 loss:  370.34403493398815\n",
      "Época:  5 total correct:  1933 loss:  240.87346579988935\n",
      "Época:  6 total correct:  1951 loss:  266.04135010797415\n",
      "Época:  7 total correct:  1943 loss:  288.5881355122856\n",
      "Época:  8 total correct:  1948 loss:  192.81522416223902\n",
      "Época:  9 total correct:  1942 loss:  279.84547516794146\n"
     ]
    }
   ],
   "source": [
    "torch.set_grad_enabled(True)\n",
    "for epoch in range(10):\n",
    "    \n",
    "    total_loss = 0\n",
    "    total_correct = 0\n",
    "    \n",
    "    for i in range(2000):\n",
    "        imagem = torch.cuda.FloatTensor(treinamento[i].reshape(1,1,28,28))\n",
    "        label = torch.cuda.LongTensor(labels_treinamento[i])\n",
    "        \n",
    "        preds = model(imagem)\n",
    "        loss = F.cross_entropy(preds, label)\n",
    "        \n",
    "        optimizer.zero_grad()\n",
    "        loss.backward()\n",
    "        optimizer.step()\n",
    "        \n",
    "        total_loss += loss.item()\n",
    "        total_correct += numero_predicoes_corretas(preds, label)\n",
    "             \n",
    "    print('Época: ', epoch, 'total correct: ', total_correct, 'loss: ', total_loss)     \n",
    "        "
   ]
  },
  {
   "cell_type": "code",
   "execution_count": 230,
   "id": "38eb4766",
   "metadata": {},
   "outputs": [
    {
     "data": {
      "text/plain": [
       "0.971"
      ]
     },
     "execution_count": 230,
     "metadata": {},
     "output_type": "execute_result"
    }
   ],
   "source": [
    "total_correct / 2000"
   ]
  },
  {
   "cell_type": "code",
   "execution_count": 231,
   "id": "99142f30",
   "metadata": {},
   "outputs": [
    {
     "name": "stdout",
     "output_type": "stream",
     "text": [
      "tensor([3], device='cuda:0') 3\n"
     ]
    },
    {
     "data": {
      "image/png": "[encoded data removed]",
      "text/plain": [
       "<Figure size 432x288 with 1 Axes>"
      ]
     },
     "metadata": {
      "needs_background": "light"
     },
     "output_type": "display_data"
    }
   ],
   "source": [
    "a = 3050\n",
    "print(model(torch.cuda.FloatTensor(treinamento[a].reshape(1,1,28,28))).argmax(dim=1),\n",
    "labels_treinamento[a][0])\n",
    "plt.imshow(treinamento[a], cmap = 'gray')\n",
    "plt.show()"
   ]
  },
  {
   "cell_type": "code",
   "execution_count": 235,
   "id": "344a3636",
   "metadata": {},
   "outputs": [
    {
     "name": "stdout",
     "output_type": "stream",
     "text": [
      "tensor([8], device='cuda:0')\n"
     ]
    },
    {
     "data": {
      "image/png": "[encoded data removed]",
      "text/plain": [
       "<Figure size 432x288 with 1 Axes>"
      ]
     },
     "metadata": {
      "needs_background": "light"
     },
     "output_type": "display_data"
    }
   ],
   "source": [
    "a = 3050\n",
    "print(model(torch.cuda.FloatTensor(teste[a].reshape(1,1,28,28))).argmax(dim=1))\n",
    "plt.imshow(teste[a], cmap = 'gray')\n",
    "plt.show()"
   ]
  },
  {
   "cell_type": "code",
   "execution_count": null,
   "id": "3d98330e",
   "metadata": {},
   "outputs": [],
   "source": []
  },
  {
   "cell_type": "code",
   "execution_count": null,
   "id": "b1d161ea",
   "metadata": {},
   "outputs": [],
   "source": []
  },
  {
   "cell_type": "code",
   "execution_count": null,
   "id": "b2314aea",
   "metadata": {},
   "outputs": [],
   "source": []
  },
  {
   "cell_type": "code",
   "execution_count": null,
   "id": "d19341eb",
   "metadata": {},
   "outputs": [],
   "source": []
  }
 ],
 "metadata": {
  "kernelspec": {
   "display_name": "Python 3",
   "language": "python",
   "name": "python3"
  },
  "language_info": {
   "codemirror_mode": {
    "name": "ipython",
    "version": 3
   },
   "file_extension": ".py",
   "mimetype": "text/x-python",
   "name": "python",
   "nbconvert_exporter": "python",
   "pygments_lexer": "ipython3",
   "version": "3.8.10"
  }
 },
 "nbformat": 4,
 "nbformat_minor": 5
}
